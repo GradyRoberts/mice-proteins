{
  "nbformat": 4,
  "nbformat_minor": 0,
  "metadata": {
    "colab": {
      "name": "Mouse_Classification.ipynb",
      "version": "0.3.2",
      "provenance": [],
      "include_colab_link": true
    },
    "kernelspec": {
      "name": "python3",
      "display_name": "Python 3"
    },
    "accelerator": "GPU"
  },
  "cells": [
    {
      "cell_type": "markdown",
      "metadata": {
        "id": "view-in-github",
        "colab_type": "text"
      },
      "source": [
        "<a href=\"https://colab.research.google.com/github/GradyRoberts/mice-proteins/blob/master/Mouse_Classification.ipynb\" target=\"_parent\"><img src=\"https://colab.research.google.com/assets/colab-badge.svg\" alt=\"Open In Colab\"/></a>"
      ]
    },
    {
      "cell_type": "markdown",
      "metadata": {
        "id": "1hpaiLZUIlxq",
        "colab_type": "text"
      },
      "source": [
        "# Mice classification"
      ]
    },
    {
      "cell_type": "code",
      "metadata": {
        "id": "vL6I7s1vIkFm",
        "colab_type": "code",
        "colab": {}
      },
      "source": [
        "%%capture\n",
        "%matplotlib inline\n",
        "from sklearn.model_selection import train_test_split, cross_val_score\n",
        "from sklearn.pipeline import Pipeline, make_pipeline\n",
        "from sklearn.compose import ColumnTransformer, make_column_transformer\n",
        "from sklearn.impute import SimpleImputer\n",
        "from sklearn.preprocessing import StandardScaler\n",
        "from sklearn.linear_model import SGDClassifier\n",
        "from sklearn.metrics import f1_score\n",
        "import pandas as pd\n",
        "import numpy as np\n",
        "import matplotlib.pyplot as plt"
      ],
      "execution_count": 0,
      "outputs": []
    },
    {
      "cell_type": "markdown",
      "metadata": {
        "id": "5TJVXQF7KYVU",
        "colab_type": "text"
      },
      "source": [
        "## Get data"
      ]
    },
    {
      "cell_type": "code",
      "metadata": {
        "id": "pz47HxswKXrG",
        "colab_type": "code",
        "colab": {}
      },
      "source": [
        "# Download data from Github\n",
        "data_url = 'https://raw.githubusercontent.com/GradyRoberts/mice-proteins/master/Data_Cortex_Nuclear.csv'\n",
        "data = pd.read_csv(data_url)\n",
        "\n",
        "# Drop unused columns and shuffle data\n",
        "data = data.drop(['MouseID', 'Genotype', 'Treatment', 'Behavior'], axis=1)\n",
        "data = data.sample(frac=1, random_state=42).reset_index(drop=True)\n",
        "\n",
        "features = data.drop(['class'], axis=1)\n",
        "target = data['class']\n",
        "\n",
        "# Split numeric/text data\n",
        "num_cols = features.select_dtypes(include='number').columns\n",
        "txt_cols = features.select_dtypes(exclude='number').columns"
      ],
      "execution_count": 0,
      "outputs": []
    },
    {
      "cell_type": "markdown",
      "metadata": {
        "id": "JLcw_lE5KjRT",
        "colab_type": "text"
      },
      "source": [
        "## Visualize data"
      ]
    },
    {
      "cell_type": "code",
      "metadata": {
        "id": "HvOVAgCGKlkw",
        "colab_type": "code",
        "outputId": "31b2cca5-436a-4598-b6b1-673983710299",
        "colab": {
          "base_uri": "https://localhost:8080/",
          "height": 2730
        }
      },
      "source": [
        "data_num = data[num_cols]\n",
        "\n",
        "for ind in range(10):\n",
        "  plt.hist(data_num.iloc[:,ind])\n",
        "  plt.title(num_cols[ind])\n",
        "  plt.show()"
      ],
      "execution_count": 0,
      "outputs": [
        {
          "output_type": "stream",
          "text": [
            "/usr/local/lib/python3.6/dist-packages/numpy/lib/histograms.py:824: RuntimeWarning: invalid value encountered in greater_equal\n",
            "  keep = (tmp_a >= first_edge)\n",
            "/usr/local/lib/python3.6/dist-packages/numpy/lib/histograms.py:825: RuntimeWarning: invalid value encountered in less_equal\n",
            "  keep &= (tmp_a <= last_edge)\n"
          ],
          "name": "stderr"
        },
        {
          "output_type": "display_data",
          "data": {
            "image/png": "[encoded data removed]",
            "text/plain": [
              "<Figure size 432x288 with 1 Axes>"
            ]
          },
          "metadata": {
            "tags": []
          }
        },
        {
          "output_type": "display_data",
          "data": {
            "image/png": "[encoded data removed]",
            "text/plain": [
              "<Figure size 432x288 with 1 Axes>"
            ]
          },
          "metadata": {
            "tags": []
          }
        },
        {
          "output_type": "display_data",
          "data": {
            "image/png": "[encoded data removed]",
            "text/plain": [
              "<Figure size 432x288 with 1 Axes>"
            ]
          },
          "metadata": {
            "tags": []
          }
        },
        {
          "output_type": "display_data",
          "data": {
            "image/png": "[encoded data removed]",
            "text/plain": [
              "<Figure size 432x288 with 1 Axes>"
            ]
          },
          "metadata": {
            "tags": []
          }
        },
        {
          "output_type": "display_data",
          "data": {
            "image/png": "[encoded data removed]",
            "text/plain": [
              "<Figure size 432x288 with 1 Axes>"
            ]
          },
          "metadata": {
            "tags": []
          }
        },
        {
          "output_type": "display_data",
          "data": {
            "image/png": "[encoded data removed]",
            "text/plain": [
              "<Figure size 432x288 with 1 Axes>"
            ]
          },
          "metadata": {
            "tags": []
          }
        },
        {
          "output_type": "display_data",
          "data": {
            "image/png": "[encoded data removed]",
            "text/plain": [
              "<Figure size 432x288 with 1 Axes>"
            ]
          },
          "metadata": {
            "tags": []
          }
        },
        {
          "output_type": "display_data",
          "data": {
            "image/png": "[encoded data removed]",
            "text/plain": [
              "<Figure size 432x288 with 1 Axes>"
            ]
          },
          "metadata": {
            "tags": []
          }
        },
        {
          "output_type": "display_data",
          "data": {
            "image/png": "[encoded data removed]",
            "text/plain": [
              "<Figure size 432x288 with 1 Axes>"
            ]
          },
          "metadata": {
            "tags": []
          }
        },
        {
          "output_type": "display_data",
          "data": {
            "image/png": "[encoded data removed]",
            "text/plain": [
              "<Figure size 432x288 with 1 Axes>"
            ]
          },
          "metadata": {
            "tags": []
          }
        }
      ]
    },
    {
      "cell_type": "markdown",
      "metadata": {
        "id": "USD-1n6ZZ5gg",
        "colab_type": "text"
      },
      "source": [
        "## Create model\n",
        "Logistic regression classifier with L1 regularization trained using SGD (which should allow parallelization). Log loss allows for outputting class probabilities and L1 regularization should perform feature selection."
      ]
    },
    {
      "cell_type": "code",
      "metadata": {
        "id": "eCd_kEE9J49r",
        "colab_type": "code",
        "colab": {}
      },
      "source": [
        "# Fill missing values and scale\n",
        "imputer = SimpleImputer()\n",
        "scaler = StandardScaler()\n",
        "\n",
        "preprocess = make_column_transformer(\n",
        "  (make_pipeline(imputer, scaler), num_cols),\n",
        "  remainder='drop'\n",
        ")\n",
        "\n",
        "# Create model pipeline\n",
        "classifier = SGDClassifier(loss='log', penalty='l1', max_iter=1000, tol=0.001)\n",
        "\n",
        "model = make_pipeline(\n",
        "  preprocess,\n",
        "  classifier\n",
        ")"
      ],
      "execution_count": 0,
      "outputs": []
    },
    {
      "cell_type": "markdown",
      "metadata": {
        "id": "VGlJvHbnagf4",
        "colab_type": "text"
      },
      "source": [
        "## Test model\n",
        "Split train and test data, fit model, and calculate F1-score to evaluate performance."
      ]
    },
    {
      "cell_type": "code",
      "metadata": {
        "id": "TQPI_CZYKdRY",
        "colab_type": "code",
        "outputId": "ee9db7d0-24bc-487e-ede2-5b293f4955dd",
        "colab": {
          "base_uri": "https://localhost:8080/",
          "height": 35
        }
      },
      "source": [
        "X_train, X_test, y_train, y_test = train_test_split(features, \n",
        "                                                    target, test_size=0.2, \n",
        "                                                    random_state=42)\n",
        "\n",
        "model.fit(X_train, y_train)\n",
        "pred = model.predict(X_test)\n",
        "f1 = f1_score(y_test, pred, average='weighted')\n",
        "print('F1-score:', f1)"
      ],
      "execution_count": 0,
      "outputs": [
        {
          "output_type": "stream",
          "text": [
            "F1-score: 0.9906249951906282\n"
          ],
          "name": "stdout"
        }
      ]
    },
    {
      "cell_type": "markdown",
      "metadata": {
        "id": "ZSEmn35VqCua",
        "colab_type": "text"
      },
      "source": [
        "Use cross-validation to evaluate performance"
      ]
    },
    {
      "cell_type": "code",
      "metadata": {
        "id": "jON2xy2ppyp7",
        "colab_type": "code",
        "outputId": "0ad3088c-7a9e-499d-96bf-74b7c833f730",
        "colab": {
          "base_uri": "https://localhost:8080/",
          "height": 35
        }
      },
      "source": [
        "print(cross_val_score(model, X_train, y_train, cv=5))"
      ],
      "execution_count": 0,
      "outputs": [
        {
          "output_type": "stream",
          "text": [
            "[0.98863636 0.99425287 0.97687861 0.97674419 0.98224852]\n"
          ],
          "name": "stdout"
        }
      ]
    },
    {
      "cell_type": "markdown",
      "metadata": {
        "id": "NNPJ9Sd0nTeR",
        "colab_type": "text"
      },
      "source": [
        "Can output class probabilities for a given sample"
      ]
    },
    {
      "cell_type": "code",
      "metadata": {
        "id": "xPyX8HNGmx44",
        "colab_type": "code",
        "outputId": "a9ab76b7-d799-4e25-a5ff-96fdedb506c2",
        "colab": {
          "base_uri": "https://localhost:8080/",
          "height": 329
        }
      },
      "source": [
        "prob_predictions = model.predict_proba(X_test)\n",
        "prob_predictions[:5]"
      ],
      "execution_count": 0,
      "outputs": [
        {
          "output_type": "stream",
          "text": [
            "/usr/local/lib/python3.6/dist-packages/sklearn/linear_model/base.py:297: RuntimeWarning: overflow encountered in exp\n",
            "  np.exp(prob, prob)\n"
          ],
          "name": "stderr"
        },
        {
          "output_type": "execute_result",
          "data": {
            "text/plain": [
              "array([[1.00000000e+000, 2.23762743e-085, 1.00299462e-294,\n",
              "        6.62665616e-059, 1.35713946e-053, 2.31736422e-191,\n",
              "        0.00000000e+000, 0.00000000e+000],\n",
              "       [1.23935585e-127, 2.35851823e-274, 5.73571589e-190,\n",
              "        5.66755096e-099, 7.81013432e-264, 3.47722963e-120,\n",
              "        1.35842596e-141, 1.00000000e+000],\n",
              "       [3.94111519e-260, 0.00000000e+000, 1.04605882e-104,\n",
              "        1.00000000e+000, 0.00000000e+000, 0.00000000e+000,\n",
              "        2.30202840e-018, 1.82772177e-267],\n",
              "       [6.04498691e-051, 1.00000000e+000, 5.45317098e-272,\n",
              "        6.68361512e-143, 4.07282653e-054, 1.74821307e-059,\n",
              "        2.62915750e-260, 2.05768987e-114],\n",
              "       [9.76896622e-226, 0.00000000e+000, 2.46857816e-062,\n",
              "        1.68737427e-135, 2.00282062e-284, 5.18427215e-154,\n",
              "        1.00000000e+000, 8.80064802e-137]])"
            ]
          },
          "metadata": {
            "tags": []
          },
          "execution_count": 71
        }
      ]
    },
    {
      "cell_type": "markdown",
      "metadata": {
        "id": "u2OEveIwnY41",
        "colab_type": "text"
      },
      "source": [
        "Using L1 norm did not send most parameter weights to 0 as expected."
      ]
    },
    {
      "cell_type": "code",
      "metadata": {
        "id": "TKD2uGwRbeJp",
        "colab_type": "code",
        "outputId": "ce592f31-222b-42b3-ec9d-879f4d39a8e8",
        "colab": {
          "base_uri": "https://localhost:8080/",
          "height": 3837
        }
      },
      "source": [
        "model.named_steps['sgdclassifier'].coef_"
      ],
      "execution_count": 0,
      "outputs": [
        {
          "output_type": "execute_result",
          "data": {
            "text/plain": [
              "array([[-1.14693466e+01, -4.78569007e+01,  1.51851544e+01,\n",
              "        -1.07969959e+00,  4.64770947e+01, -2.22204881e+01,\n",
              "         3.96165996e+01, -9.87251408e+01, -1.27741699e+02,\n",
              "        -2.19598369e+01,  3.22442224e+01,  1.16748513e+02,\n",
              "         8.69043435e+01,  3.91544719e+01,  2.03695047e+01,\n",
              "        -3.09845159e+01, -9.01690542e+01, -4.65084826e+01,\n",
              "         6.92515691e-01,  1.87717096e+01, -9.90687458e+00,\n",
              "        -3.55341015e+01, -2.83983457e+01,  3.64775814e+01,\n",
              "         9.08951412e+01,  7.82940817e+00,  2.55010285e+01,\n",
              "        -5.96201032e+01, -1.16639025e+01, -6.62490623e+00,\n",
              "        -4.83984599e+01, -1.18052855e+01, -4.71264679e+01,\n",
              "         6.56716328e+01, -3.05440772e+01, -1.54136991e+01,\n",
              "        -3.05046348e+01,  5.34156731e+00,  2.48788997e+01,\n",
              "         7.71581850e+01,  2.38189866e+01, -4.83496225e+01,\n",
              "        -4.60250894e+01, -3.17210831e+01, -7.49333921e+01,\n",
              "         2.24342949e+01, -8.96986875e+00,  4.06684302e+01,\n",
              "         1.15420810e+01, -1.53604375e+01,  1.51701977e+00,\n",
              "         0.00000000e+00, -1.15174050e+02,  1.51493407e+01,\n",
              "         5.20710309e+00,  9.83025926e+01,  1.88965299e+01,\n",
              "         2.33967850e+00,  8.21494088e+01, -2.48049740e+01,\n",
              "         3.27813610e+01,  3.80144232e+01, -8.36487714e+01,\n",
              "        -2.74475228e+01, -4.83198009e+01, -1.38859236e+01,\n",
              "         8.11025971e+01,  4.01521439e+01,  4.39083557e+01,\n",
              "         1.79417463e+01,  1.51493407e+01, -6.73784761e+01,\n",
              "         6.18878515e+00, -2.02778503e+01, -6.83386592e+01,\n",
              "        -6.28220372e+00, -2.11161022e+01],\n",
              "       [ 1.13085031e+00,  1.00056989e-01, -3.42686724e+01,\n",
              "         0.00000000e+00,  1.11421069e+01,  1.59699340e+01,\n",
              "        -6.16141262e+01,  3.23620156e+01,  3.70600519e+01,\n",
              "         7.67803271e+00,  3.80893126e+01, -9.35679194e+01,\n",
              "        -3.04453885e+01, -2.09491418e+01, -9.51596222e+00,\n",
              "         3.27995535e+01, -1.50618801e+01,  9.25754423e+01,\n",
              "         0.00000000e+00, -2.62059109e+01,  4.16910340e+01,\n",
              "         7.14585532e+01,  3.35374886e+01,  2.24972697e+01,\n",
              "         2.15302349e+00, -7.11385572e+00, -2.98487277e+01,\n",
              "         2.83223605e+01, -7.71900153e+01,  4.54169482e+01,\n",
              "        -1.55550781e+02,  2.02906098e+01,  1.22929304e+01,\n",
              "        -1.76084716e+01,  1.81786617e+01,  0.00000000e+00,\n",
              "        -4.28315513e+01,  0.00000000e+00,  4.13658074e+01,\n",
              "         6.22870787e+01,  4.07487009e+01, -1.31596954e+01,\n",
              "        -3.47899478e+00,  1.35614968e+01,  1.50023174e+01,\n",
              "         6.46727605e+01,  2.29901745e+01,  5.46427451e+01,\n",
              "        -2.20126638e+00,  2.31109390e+01, -8.56921242e+00,\n",
              "        -5.11793370e+01,  3.54255409e+01,  0.00000000e+00,\n",
              "        -2.35704070e+01, -1.29537910e+02, -6.90340868e+01,\n",
              "         1.64870634e+01,  3.66464775e+01, -4.25798767e+01,\n",
              "        -8.79197902e+01,  4.27798421e+01,  9.61212502e+01,\n",
              "         0.00000000e+00,  1.65839701e+01, -9.94856203e+01,\n",
              "        -3.64610690e+01,  1.38052061e+01, -1.91063028e+01,\n",
              "        -2.82764815e+01,  0.00000000e+00, -1.35054176e+00,\n",
              "         2.53387801e+01,  6.19609493e+01,  4.92449970e+00,\n",
              "         1.88183894e+01,  2.91175691e+01],\n",
              "       [-3.86783229e+01, -2.53540027e+01,  1.76532032e+01,\n",
              "        -4.53399252e+01, -1.89836683e+01, -2.06284241e+01,\n",
              "         3.09446028e+01,  7.27440792e+01,  2.80664189e+01,\n",
              "         1.35434590e+00, -1.56213132e-01,  1.39282197e+01,\n",
              "        -2.51411414e+00, -1.42425890e+01,  0.00000000e+00,\n",
              "         8.98775233e+01, -3.62678213e+01, -2.88314278e+01,\n",
              "         1.62724904e+01, -4.40848799e+01,  0.00000000e+00,\n",
              "        -1.58847930e+01,  3.83878795e+01,  2.11465161e+01,\n",
              "         1.52701098e+00,  5.33265013e+01, -3.64634565e+01,\n",
              "         4.22301333e+00, -4.55182412e+01,  1.04084425e+01,\n",
              "        -8.90104407e+01, -2.34473431e+01, -3.56008522e+01,\n",
              "         8.91656250e+00,  4.12672095e+01,  1.09857731e+01,\n",
              "        -3.31052855e+01,  3.89335375e+01, -4.82386148e+00,\n",
              "         1.22764928e+01,  2.16179202e+01, -3.06795370e+01,\n",
              "         1.56436237e+01,  1.75622831e+01,  6.05283844e+01,\n",
              "        -3.12420249e+01,  2.54516004e+00, -5.35384049e+01,\n",
              "        -5.11472162e+00, -8.77715321e+01, -4.91956251e+01,\n",
              "        -3.05423689e+01,  3.49435017e+01,  5.89683411e+00,\n",
              "        -3.37534022e+01, -1.73540323e+01, -1.40596558e+00,\n",
              "        -1.75500009e+01,  6.57467187e+00,  3.62005093e+01,\n",
              "         3.61710992e+01, -7.08031652e+01, -4.34484924e+01,\n",
              "        -3.86323274e+00, -9.62741198e+00,  5.00584235e+01,\n",
              "         5.53041894e+01, -1.55883813e+01, -3.70762835e+00,\n",
              "         5.65353594e-01,  5.89683411e+00,  1.99330706e+01,\n",
              "         3.65155038e+01,  5.63890134e+01,  1.68509242e+00,\n",
              "        -1.80931511e+01, -4.17885637e+01],\n",
              "       [-1.14642043e+01, -4.98895543e+01,  1.22104365e+01,\n",
              "         6.11091592e+01,  4.51737037e+01, -3.02357308e+00,\n",
              "         1.54054380e+01,  8.38430371e+00, -3.01057313e+01,\n",
              "         1.41152156e+01, -1.79626473e+01, -1.92693298e+01,\n",
              "         0.00000000e+00,  7.39321641e+00,  2.82150746e+01,\n",
              "        -7.04688064e+01,  4.05871235e+01,  2.70710129e+01,\n",
              "         1.17793537e+01,  9.43381078e+01,  0.00000000e+00,\n",
              "         2.39454947e+00,  6.88419971e+00,  9.54186838e+00,\n",
              "        -2.54944806e+01, -6.78527584e+01, -1.61115060e+01,\n",
              "         2.09629573e+01,  2.06693272e+01, -1.22353932e+01,\n",
              "        -4.21354096e+01,  2.94445912e+00,  2.56654614e+01,\n",
              "         8.36586946e+01,  0.00000000e+00, -2.37767367e+01,\n",
              "        -1.23155174e+01, -2.09133191e+01,  3.00404631e+01,\n",
              "        -1.28176834e+02, -4.19562432e+01, -4.22412625e+01,\n",
              "         2.32893961e+01,  1.01539394e+00, -7.39175828e+01,\n",
              "        -3.99432132e+01, -6.27419052e+01, -2.78223906e+01,\n",
              "        -3.08013515e+01,  2.00714411e+01,  2.35337821e+01,\n",
              "         3.56150161e+00, -1.06366863e+00,  6.01413143e+00,\n",
              "        -1.73276675e+01,  4.24677072e+01,  1.01599169e+01,\n",
              "         9.21844717e+00,  1.88737209e+01, -1.06236618e+01,\n",
              "         0.00000000e+00,  4.12570582e+01, -7.19526751e+01,\n",
              "        -1.82362619e+00, -1.49609196e+01, -4.69332355e+01,\n",
              "        -2.47049283e+01,  3.00490343e+00,  2.31243157e+01,\n",
              "        -9.09892923e+00,  6.01413143e+00,  1.97492278e+01,\n",
              "         8.69814887e+01, -4.86460642e+01,  2.64721261e+00,\n",
              "        -1.12942674e+01,  1.70191623e+00],\n",
              "       [ 2.14139046e+01,  4.67095258e+01,  3.29824329e+01,\n",
              "         7.87950310e+00, -5.34757546e+00, -3.60027502e+01,\n",
              "         3.10073158e+01,  8.55807173e+01,  0.00000000e+00,\n",
              "        -9.14302047e+01,  1.92268279e+01, -1.16147103e+01,\n",
              "        -7.93075484e+00, -1.98541137e+01, -1.13805071e+01,\n",
              "         0.00000000e+00,  2.14484315e+01,  0.00000000e+00,\n",
              "         6.48094103e+01, -2.92979931e+01,  9.14672811e+00,\n",
              "        -1.17573615e+02,  3.56107235e+01, -1.50060988e+01,\n",
              "        -6.84790699e+01, -2.82169569e+01,  6.50253075e+01,\n",
              "         2.69808570e+00,  2.65446998e+01, -1.12232567e+01,\n",
              "         1.33035591e+02, -7.46736618e+00, -5.14474379e+01,\n",
              "        -6.27442604e+01,  5.21818163e+00, -3.75096984e+01,\n",
              "         4.72649988e+01, -3.60598148e+01,  1.84379415e+01,\n",
              "        -1.68192032e+01, -1.30284839e+01,  0.00000000e+00,\n",
              "        -8.11820031e+00, -4.20355951e+01,  1.28285934e+01,\n",
              "         3.32788451e+01, -1.30315960e+02, -4.96118858e+01,\n",
              "         2.88110475e+01,  4.26623277e+01,  0.00000000e+00,\n",
              "         8.05075581e+00, -7.77817100e+00, -2.35976756e+01,\n",
              "         6.00936835e+00,  3.32746641e+01, -4.30400004e+01,\n",
              "        -3.11595766e+01,  2.47110083e+01, -2.34378900e+01,\n",
              "         3.38537813e+01,  4.09903003e+01, -6.29205626e+01,\n",
              "         4.86345702e+01, -5.07695182e+01, -3.15666346e+01,\n",
              "        -2.13080292e+00, -3.40746319e+01,  1.60800077e+01,\n",
              "         3.99121207e+01, -2.35976756e+01,  4.69852317e+01,\n",
              "        -5.06556506e+00, -1.31927299e+01, -2.23968762e+01,\n",
              "        -1.73896628e+01,  1.18866144e+02],\n",
              "       [-2.60274330e+00,  1.40675965e+01, -2.75367491e+01,\n",
              "        -1.92344733e+01, -5.43541533e+01,  9.74949663e+00,\n",
              "         7.83138507e+00, -5.91693785e+01,  2.24233702e+01,\n",
              "         3.55577050e+01, -1.45603397e+01,  8.25493756e+01,\n",
              "        -1.82966077e+00,  7.17329487e+00, -2.80327585e+01,\n",
              "        -1.76154901e+01,  2.75727154e+01,  4.25974956e+00,\n",
              "         2.44780838e+00,  5.72837221e+01, -3.50225906e+01,\n",
              "         2.37458646e+01, -1.41852670e+01, -5.29366280e+00,\n",
              "         3.64353374e+00,  1.87185327e+01,  1.24332334e+00,\n",
              "        -4.13504038e+01,  2.96021706e+01, -4.15502683e+01,\n",
              "         8.97716242e+01, -4.52792856e+01, -2.53563723e+01,\n",
              "        -2.29364634e+01, -2.23209235e+01, -3.95525872e+01,\n",
              "         2.25370748e+01, -3.38691394e+01, -5.94884834e+01,\n",
              "         0.00000000e+00, -3.56422801e+01,  3.82299052e+01,\n",
              "        -3.91730330e+01,  7.85171739e+01,  3.80109719e+01,\n",
              "        -2.98128839e+01,  5.08840650e+01,  3.68059254e+00,\n",
              "         7.35768785e+01,  1.81242392e+01, -3.25810493e+01,\n",
              "        -3.35613517e+01,  0.00000000e+00, -1.59837649e+01,\n",
              "        -5.54091875e+00, -3.51999299e+01, -1.24559595e+01,\n",
              "         2.32217187e+01, -4.91565877e+01, -1.05169559e+02,\n",
              "        -5.51331701e+00,  4.44313859e+01,  9.13952278e-01,\n",
              "        -1.23511829e+01,  0.00000000e+00,  7.15497432e+01,\n",
              "        -7.39063716e+00,  1.42555859e+01,  2.31316757e+01,\n",
              "         1.55344570e+01, -1.59837649e+01, -3.07954170e+01,\n",
              "        -2.35592591e+01, -3.35767532e+01, -1.56394993e+01,\n",
              "        -3.41993196e+00, -2.52624609e+01],\n",
              "       [-6.68167242e+00,  3.48104163e+01, -5.66951307e+01,\n",
              "         0.00000000e+00,  2.68294556e+01,  5.35550486e+01,\n",
              "        -9.05186672e+00, -2.55136665e+01, -1.59574856e+01,\n",
              "         1.42707905e+01, -6.84792213e+01, -6.45041660e+00,\n",
              "         0.00000000e+00,  0.00000000e+00, -3.16460580e+01,\n",
              "        -3.61488012e+01,  1.68636714e+01, -2.69996973e+01,\n",
              "        -4.34951894e+01,  2.23564247e+01, -3.35088242e+01,\n",
              "         7.26743319e+01, -9.87847402e-01, -7.96393485e+01,\n",
              "        -4.87265655e+01,  1.55838705e+01,  3.11928716e+01,\n",
              "         3.90493660e+00,  2.01929172e+01, -6.54366503e+00,\n",
              "         9.58386139e+01, -1.45568220e+01,  6.69406777e+01,\n",
              "        -5.23049272e+01,  2.12525050e+00,  5.43304955e+01,\n",
              "         7.17442352e+01, -4.48628494e+01, -1.31669495e+01,\n",
              "        -3.89682482e+01,  5.89233291e+00,  6.27435995e+01,\n",
              "        -4.94597926e+01, -3.25138298e+01,  1.53895040e+01,\n",
              "        -6.05694057e+01, -1.24816730e+01,  2.29233647e+01,\n",
              "         1.85792564e+01,  1.18898822e+01,  3.21042456e+01,\n",
              "         3.87732291e+00,  2.18661786e+01,  3.54485446e+01,\n",
              "         6.70667693e+01,  4.87634477e-01, -8.96214453e+00,\n",
              "        -3.14777213e+01, -1.61235357e+01,  1.15376514e+00,\n",
              "        -4.57767145e+01, -6.28780618e+01,  7.48253498e+01,\n",
              "         2.59721759e+01,  8.83269503e+00,  1.11567774e+01,\n",
              "         3.17495384e+01, -1.42764483e+01, -2.92221718e+01,\n",
              "         9.66064902e+00,  3.54485446e+01, -1.39964397e+01,\n",
              "        -9.07672077e+01,  2.50765250e+01,  0.00000000e+00,\n",
              "         1.70596494e+01, -3.39792815e+01],\n",
              "       [-3.10255748e+01, -2.13547600e+01,  4.48865258e+00,\n",
              "        -6.57600535e+00, -1.19379925e+01,  2.35016255e+01,\n",
              "         6.86191696e+00,  7.45363716e+01,  2.59729747e+01,\n",
              "        -3.88786530e+01, -6.30871213e+01,  3.09205906e+00,\n",
              "        -1.62437768e+01,  3.38444315e+01, -2.62594924e+01,\n",
              "        -6.29692051e+01, -6.36800293e+01, -8.17925972e+01,\n",
              "        -1.24375825e+00,  1.50388163e+01, -5.25690749e+01,\n",
              "        -6.30527437e+01, -5.25431510e+00, -1.26052193e+01,\n",
              "         7.15258961e+01,  0.00000000e+00, -2.90525986e+01,\n",
              "         1.81313426e+01, -5.72364744e+00, -6.25346857e+01,\n",
              "         3.36242272e+01,  6.92149582e+01,  3.64212051e+01,\n",
              "         1.34790841e+01, -5.47323261e+01, -1.29819246e+01,\n",
              "         2.38787139e+01, -1.14013399e+01,  1.16377682e+01,\n",
              "         6.14050914e+00,  3.04253464e+01,  6.66170873e+01,\n",
              "         1.26906264e+01, -4.14030984e+01, -4.49986518e+01,\n",
              "         5.25837953e+01,  4.62003130e+01,  4.55993236e+01,\n",
              "        -2.58376733e+01, -1.02684156e+01, -3.47263309e+01,\n",
              "         1.11775954e+01, -1.61255696e+01, -2.94493448e+01,\n",
              "         4.57876313e+00,  2.25543779e+01,  5.23532723e+01,\n",
              "        -1.50310104e+01, -1.60659689e+01, -2.64927637e+01,\n",
              "        -5.93454479e+01,  5.54829678e+01, -5.06170278e+00,\n",
              "         9.63922243e+00, -5.48406413e+01,  8.50121326e+00,\n",
              "         6.39048114e+01,  5.09689719e+00,  6.64512157e+01,\n",
              "        -1.66169535e+01, -2.94493448e+01,  1.23358741e+00,\n",
              "        -5.08769733e+01, -3.03041108e+01, -4.30647002e+01,\n",
              "         1.75839765e+01, -2.88899867e+01]])"
            ]
          },
          "metadata": {
            "tags": []
          },
          "execution_count": 65
        }
      ]
    },
    {
      "cell_type": "code",
      "metadata": {
        "id": "47vDirKqmEvM",
        "colab_type": "code",
        "colab": {}
      },
      "source": [
        ""
      ],
      "execution_count": 0,
      "outputs": []
    }
  ]
}